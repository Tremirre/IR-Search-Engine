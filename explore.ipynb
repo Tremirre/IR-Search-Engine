{
 "cells": [
  {
   "cell_type": "code",
   "execution_count": 63,
   "metadata": {},
   "outputs": [],
   "source": [
    "import requests\n",
    "import pandas as pd\n",
    "import numpy as np\n",
    "\n",
    "import scrape\n",
    "\n",
    "from bs4 import BeautifulSoup\n",
    "from sklearn.feature_extraction.text import TfidfVectorizer\n",
    "from scipy.spatial.distance import cosine"
   ]
  },
  {
   "cell_type": "code",
   "execution_count": 64,
   "metadata": {},
   "outputs": [],
   "source": [
    "docs_df = pd.read_parquet(\"related_large_set.pq\")[:2000]\n",
    "texts = docs_df.text.tolist()\n",
    "texts = [\" \".join(text.split(\";\")) for text in texts]"
   ]
  },
  {
   "cell_type": "code",
   "execution_count": 65,
   "metadata": {},
   "outputs": [],
   "source": [
    "tfidf = TfidfVectorizer(use_idf=True, smooth_idf=False)"
   ]
  },
  {
   "cell_type": "code",
   "execution_count": 66,
   "metadata": {},
   "outputs": [],
   "source": [
    "dfTFIDF = pd.DataFrame(tfidf.fit_transform(texts).toarray(), index=docs_df.url, columns=tfidf.get_feature_names_out())"
   ]
  },
  {
   "cell_type": "code",
   "execution_count": 67,
   "metadata": {},
   "outputs": [],
   "source": [
    "def search_query(query: str, df: pd.DataFrame) -> str:\n",
    "    query = tfidf.transform([query]).toarray()[0] \n",
    "    return (1-df.apply(lambda x: cosine(x, query), axis=1).sort_values()).index[0]\n",
    "\n",
    "def search_history(history: list[str], df: pd.DataFrame, top: int) -> str:\n",
    "    history_augmented = [tfidf.transform([query]).toarray()[0] for query in history]\n",
    "    results = [(1-df.apply(lambda x: cosine(x, query), axis=1).sort_values())[:top] for query in history_augmented]\n",
    "    results_joint = pd.concat(results, axis=1)\n",
    "    results_joint.replace(np.nan, 0, inplace=True)\n",
    "    return results_joint.sum(axis=1).sort_values(ascending=False).index[0]\n"
   ]
  },
  {
   "cell_type": "code",
   "execution_count": 68,
   "metadata": {},
   "outputs": [],
   "source": [
    "def get_recomendation_from_texts(texts: list[str], df: pd.DataFrame) -> str:\n",
    "    return search_history(texts, df, 10)\n",
    "\n",
    "def get_recomendation_from_urls(urls: list[str], df: pd.DataFrame) -> str:\n",
    "    documents = [requests.get(url).text for url in urls]\n",
    "    _, parsed_texts = zip(*[scrape.parse_content_from_bs(BeautifulSoup(document)) for document in documents])\n",
    "    return get_recomendation_from_texts(parsed_texts, df)"
   ]
  },
  {
   "cell_type": "code",
   "execution_count": 69,
   "metadata": {},
   "outputs": [],
   "source": [
    "urls = [\n",
    "    \"https://en.wikipedia.org/wiki/Primary_school\",\n",
    "    \"https://en.wikipedia.org/wiki/Education\",\n",
    "    \"https://en.wikipedia.org/wiki/University\",\n",
    "    \"https://en.wikipedia.org/wiki/Ethiopia\"\n",
    "]\n",
    "\n",
    "documents = [requests.get(url).text for url in urls]\n",
    "parsed_titles, parsed_texts = zip(*[scrape.parse_content_from_bs(BeautifulSoup(document)) for document in documents])"
   ]
  },
  {
   "cell_type": "code",
   "execution_count": 70,
   "metadata": {},
   "outputs": [
    {
     "data": {
      "text/plain": [
       "'https://en.wikipedia.org/wiki/Primary_school'"
      ]
     },
     "execution_count": 70,
     "metadata": {},
     "output_type": "execute_result"
    }
   ],
   "source": [
    "search_history(parsed_texts, dfTFIDF, 10)"
   ]
  },
  {
   "cell_type": "code",
   "execution_count": 71,
   "metadata": {},
   "outputs": [
    {
     "data": {
      "text/plain": [
       "'https://en.wikipedia.org/wiki/German_occupation_of_Denmark'"
      ]
     },
     "execution_count": 71,
     "metadata": {},
     "output_type": "execute_result"
    }
   ],
   "source": [
    "docs_df.url[2]"
   ]
  },
  {
   "cell_type": "code",
   "execution_count": 72,
   "metadata": {},
   "outputs": [
    {
     "data": {
      "text/plain": [
       "'https://en.wikipedia.org/wiki/Centre-right'"
      ]
     },
     "execution_count": 72,
     "metadata": {},
     "output_type": "execute_result"
    }
   ],
   "source": [
    "get_recomendation_from_urls([\n",
    "    \"https://en.wikipedia.org/wiki/Ronald_Reagan\",\n",
    "    \"https://en.wikipedia.org/wiki/Economy_of_the_United_States\"\n",
    "], dfTFIDF)"
   ]
  }
 ],
 "metadata": {
  "kernelspec": {
   "display_name": "Python 3.10.4 ('dviz')",
   "language": "python",
   "name": "python3"
  },
  "language_info": {
   "codemirror_mode": {
    "name": "ipython",
    "version": 3
   },
   "file_extension": ".py",
   "mimetype": "text/x-python",
   "name": "python",
   "nbconvert_exporter": "python",
   "pygments_lexer": "ipython3",
   "version": "3.10.4"
  },
  "orig_nbformat": 4,
  "vscode": {
   "interpreter": {
    "hash": "8a0764124d9b0ac1585fac6f6636ff3c06a49bfb47c9dbbda49bea898317cf46"
   }
  }
 },
 "nbformat": 4,
 "nbformat_minor": 2
}
