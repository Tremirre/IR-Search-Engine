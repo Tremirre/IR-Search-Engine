{
 "cells": [
  {
   "cell_type": "code",
   "execution_count": 53,
   "metadata": {},
   "outputs": [],
   "source": [
    "import random\n",
    "import requests\n",
    "import pandas as pd\n",
    "import numpy as np\n",
    "\n",
    "import scrape\n",
    "\n",
    "from sklearn.feature_extraction.text import TfidfVectorizer\n",
    "from scipy.spatial.distance import cosine"
   ]
  },
  {
   "cell_type": "code",
   "execution_count": 60,
   "metadata": {},
   "outputs": [],
   "source": [
    "docs_df = pd.read_parquet(\"large_set.pq\")[:2000]\n",
    "texts = docs_df.text.tolist()\n",
    "texts = [\" \".join(text.split(\";\")) for text in texts]"
   ]
  },
  {
   "cell_type": "code",
   "execution_count": 61,
   "metadata": {},
   "outputs": [],
   "source": [
    "tfidf = TfidfVectorizer(use_idf=True, smooth_idf=False)"
   ]
  },
  {
   "cell_type": "code",
   "execution_count": 62,
   "metadata": {},
   "outputs": [],
   "source": [
    "dfTFIDF = pd.DataFrame(tfidf.fit_transform(texts).toarray(), index=docs_df.url, columns=tfidf.get_feature_names_out())"
   ]
  },
  {
   "cell_type": "code",
   "execution_count": 63,
   "metadata": {},
   "outputs": [],
   "source": [
    "def search_query(query: str, df: pd.DataFrame) -> str:\n",
    "    query = tfidf.transform([query]).toarray()[0] \n",
    "    return (1-df.apply(lambda x: cosine(x, query), axis=1).sort_values()).index[0]\n",
    "\n",
    "def search_history(history: list[str], df: pd.DataFrame, top: int) -> str:\n",
    "    history_augmented = [tfidf.transform([query]).toarray()[0] for query in history]\n",
    "    results = [(1-df.apply(lambda x: cosine(x, query), axis=1).sort_values())[:top] for query in history_augmented]\n",
    "    results_joint = pd.concat(results, axis=1)\n",
    "    results_joint.replace(np.nan, 0, inplace=True)\n",
    "    return results_joint.sum(axis=1).sort_values(ascending=False).index[0]\n"
   ]
  },
  {
   "cell_type": "code",
   "execution_count": 64,
   "metadata": {},
   "outputs": [],
   "source": [
    "selected = random.choices(docs_df.values.tolist(), k=10)\n",
    "\n",
    "vectorized = [\" \".join(entry[2].split(\";\")) for entry in selected]"
   ]
  },
  {
   "cell_type": "code",
   "execution_count": 65,
   "metadata": {},
   "outputs": [
    {
     "data": {
      "text/plain": [
       "'https://en.wikipedia.org/wiki/Federa%C3%A7%C3%A3o_Amapaense_de_Futebol'"
      ]
     },
     "execution_count": 65,
     "metadata": {},
     "output_type": "execute_result"
    }
   ],
   "source": [
    "search_history(vectorized, dfTFIDF, 10)"
   ]
  },
  {
   "cell_type": "code",
   "execution_count": 66,
   "metadata": {},
   "outputs": [
    {
     "name": "stdout",
     "output_type": "stream",
     "text": [
      "https://en.wikipedia.org/wiki/%C4%90%E1%BA%A1i_C%C3%A1t_T%C6%B0%E1%BB%9Dng\n",
      "https://en.wikipedia.org/wiki/Agim_Zeka\n",
      "https://en.wikipedia.org/wiki/An_Gearanach\n",
      "https://en.wikipedia.org/wiki/Hyde-St._John_House\n",
      "https://en.wikipedia.org/wiki/Bento_Gon%C3%A7alves_da_Silva\n",
      "https://en.wikipedia.org/wiki/St_George's_Quarter\n",
      "https://en.wikipedia.org/wiki/Jon_Becker\n",
      "https://en.wikipedia.org/wiki/Elsie_Roy_Elementary_School\n",
      "https://en.wikipedia.org/wiki/Masthorn\n",
      "https://en.wikipedia.org/wiki/Federa%C3%A7%C3%A3o_Amapaense_de_Futebol\n"
     ]
    }
   ],
   "source": [
    "for entry in selected:\n",
    "    print(entry[1])"
   ]
  },
  {
   "cell_type": "code",
   "execution_count": 85,
   "metadata": {},
   "outputs": [],
   "source": [
    "urls = [\n",
    "    \"https://en.wikipedia.org/wiki/Primary_school\",\n",
    "    \"https://en.wikipedia.org/wiki/Education\",\n",
    "    \"https://en.wikipedia.org/wiki/University\",\n",
    "    \"https://en.wikipedia.org/wiki/Ethiopia\"\n",
    "]\n",
    "\n",
    "documents = [requests.get(url).text for url in urls]\n",
    "parsed_titles, parsed_texts = zip(*[scrape.parse_wiki_article_from_document(document) for document in documents])"
   ]
  },
  {
   "cell_type": "code",
   "execution_count": 89,
   "metadata": {},
   "outputs": [
    {
     "data": {
      "text/plain": [
       "'https://en.wikipedia.org/wiki/Adult_education_in_the_United_Kingdom'"
      ]
     },
     "execution_count": 89,
     "metadata": {},
     "output_type": "execute_result"
    }
   ],
   "source": [
    "search_history(parsed_texts[:2], dfTFIDF, 10)"
   ]
  },
  {
   "cell_type": "code",
   "execution_count": 84,
   "metadata": {},
   "outputs": [
    {
     "data": {
      "text/plain": [
       "(2000, 136832)"
      ]
     },
     "execution_count": 84,
     "metadata": {},
     "output_type": "execute_result"
    }
   ],
   "source": [
    "dfTFIDF.shape"
   ]
  }
 ],
 "metadata": {
  "kernelspec": {
   "display_name": "Python 3.10.4 ('dviz')",
   "language": "python",
   "name": "python3"
  },
  "language_info": {
   "codemirror_mode": {
    "name": "ipython",
    "version": 3
   },
   "file_extension": ".py",
   "mimetype": "text/x-python",
   "name": "python",
   "nbconvert_exporter": "python",
   "pygments_lexer": "ipython3",
   "version": "3.10.4"
  },
  "orig_nbformat": 4,
  "vscode": {
   "interpreter": {
    "hash": "8a0764124d9b0ac1585fac6f6636ff3c06a49bfb47c9dbbda49bea898317cf46"
   }
  }
 },
 "nbformat": 4,
 "nbformat_minor": 2
}
